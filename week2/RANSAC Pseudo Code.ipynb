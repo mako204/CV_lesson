{
 "cells": [
  {
   "cell_type": "code",
   "execution_count": 1,
   "metadata": {},
   "outputs": [],
   "source": [
    "    \"\"\"\n",
    "    参考\n",
    "    伪代码:http://en.wikipedia.org/w/index.php?title=RANSAC&oldid=116358182\n",
    "    输入:\n",
    "        data - 样本点\n",
    "        model - 假设模型:事先自己确定\n",
    "        n - 生成模型所需的最少样本点\n",
    "        k - 最大迭代次数\n",
    "        t - 阈值:作为判断点满足模型的条件\n",
    "        d - 拟合较好时,需要的样本点最少的个数,当做阈值看待\n",
    "    输出:\n",
    "        bestfit - 最优拟合解（返回nil,如果未找到）\n",
    "    \n",
    "    iterations = 0\n",
    "    bestfit = nil #后面更新\n",
    "    besterr = something really large #后期更新besterr = thiserr\n",
    "    while iterations < k \n",
    "    {\n",
    "        maybeinliers = 从样本中随机选取n个,不一定全是局内点,甚至全部为局外点\n",
    "        maybemodel = n个maybeinliers 拟合出来的可能符合要求的模型\n",
    "        alsoinliers = emptyset #满足误差要求的样本点,开始置空\n",
    "        for (每一个不是maybeinliers的样本点)\n",
    "        {\n",
    "            if 满足maybemodel即error < t\n",
    "                将点加入alsoinliers \n",
    "        }\n",
    "        if (alsoinliers样本点数目 > d) \n",
    "        {\n",
    "            %有了较好的模型,测试模型符合度\n",
    "            bettermodel = 利用所有的maybeinliers 和 alsoinliers 重新生成更好的模型\n",
    "            thiserr = 所有的maybeinliers 和 alsoinliers 样本点的误差度量\n",
    "            if thiserr < besterr\n",
    "            {\n",
    "                bestfit = bettermodel\n",
    "                besterr = thiserr\n",
    "            }\n",
    "        }\n",
    "        iterations++\n",
    "    }\n",
    "    return bestfit\n",
    "    \"\"\""
   ]
  },
  {
   "cell_type": "code",
   "execution_count": null,
   "metadata": {},
   "outputs": [],
   "source": []
  },
  {
   "cell_type": "code",
   "execution_count": null,
   "metadata": {},
   "outputs": [],
   "source": []
  },
  {
   "cell_type": "code",
   "execution_count": null,
   "metadata": {},
   "outputs": [],
   "source": []
  }
 ],
 "metadata": {
  "kernelspec": {
   "display_name": "Python 3",
   "language": "python",
   "name": "python3"
  },
  "language_info": {
   "codemirror_mode": {
    "name": "ipython",
    "version": 3
   },
   "file_extension": ".py",
   "mimetype": "text/x-python",
   "name": "python",
   "nbconvert_exporter": "python",
   "pygments_lexer": "ipython3",
   "version": "3.6.8"
  }
 },
 "nbformat": 4,
 "nbformat_minor": 2
}
