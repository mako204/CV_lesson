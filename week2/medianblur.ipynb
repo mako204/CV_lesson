{
 "cells": [
  {
   "cell_type": "code",
   "execution_count": 1,
   "metadata": {},
   "outputs": [],
   "source": [
    "import numpy as np\n",
    "import cv2"
   ]
  },
  {
   "cell_type": "code",
   "execution_count": 3,
   "metadata": {},
   "outputs": [],
   "source": [
    "def medianBlur(img, kernel, padding_way):\n",
    "    \n",
    "    if padding_way not in ['ZERO', 'REPLICA']:\n",
    "        raise ValueError('The `padding` argument must be one of \"ZERO\", \"REPLICA\". Received: ' + str(padding))\n",
    "        \n",
    "    if kernel.shape[0]*kernel.shape[1] % 2 == 0:\n",
    "        raise AttributeError(\"Kernel size must be odd\")\n",
    "        \n",
    "    kernel_h = kernel.shape[0]\n",
    "    kernel_w = kernel.shape[1]\n",
    "    padding_h = (kernel_h-1)//2\n",
    "    padding_w = (kernel_w-1)//2\n",
    "    \n",
    "    img_array = np.array(img)\n",
    "    #print(padding_img.shape)\n",
    "    height = img_array.shape[0]\n",
    "    width = img_array.shape[1]\n",
    "    channel = img_array.shape[2]\n",
    "\n",
    "    padding_img = None\n",
    "    if channel==3:\n",
    "        \n",
    "        if (padding_way == \"REPLICA\"):\n",
    "            padding_img = cv2.copyMakeBorder(img,padding_h, padding_h, padding_w, padding_w ,cv2.BORDER_REFLICATE)\n",
    "        elif (padding_way == \"ZERO\"):\n",
    "            padding_img = cv2.copyMakeBorder(img,padding_h, padding_h, padding_w, padding_w ,cv2.BORDER_CONSTANT,value=0)\n",
    "        \n",
    "        #print(padding_img.shape)\n",
    "        \n",
    "        for i in range(3):\n",
    "            for irow in range(height):\n",
    "                for icol in range(width):\n",
    "                    temp = padding_img[irow:irow+kernel.shape[0],icol:icol+kernel.shape[1],i]\n",
    "                    #print(temp.shape)\n",
    "                    # 求kernel范围内像素值的中值\n",
    "                    center = np.median(temp)\n",
    "                    #print(center)\n",
    "                    # 修改kernel中心点的像素值\n",
    "                    padding_img[irow+padding_h][icol+padding_w][i] = center.astype(padding_img.dtype)\n",
    "                \n",
    "    if channel==1:        \n",
    "        if (padding_way == \"REPLICA\"):\n",
    "                padding_img = cv2.copyMakeBorder(img,padding_h, padding_h, padding_w, padding_w ,cv2.BORDER_REFLICATE)\n",
    "        elif (padding_way == \"ZERO\"):\n",
    "                padding_img = cv2.copyMakeBorder(img,padding_h, padding_h, padding_w, padding_w ,cv2.BORDER_CONSTANT,value=0)\n",
    "            \n",
    "        for irow in range(height):\n",
    "            for icol in range(width):\n",
    "                temp = padding_img[irow:irow+kernel.shape[0],icol:icol+kernel.shape[1],i]\n",
    "                # 求kernel范围内像素值的中值\n",
    "                center = np.median(temp)\n",
    "                # 修改kernel中心点的像素值\n",
    "                padding_img[irow+padding_h][icol+padding_w] = center.astype(padding_img.dtype)\n",
    "        \n",
    "    return padding_img"
   ]
  },
  {
   "cell_type": "code",
   "execution_count": 1,
   "metadata": {},
   "outputs": [
    {
     "ename": "NameError",
     "evalue": "name 'cv2' is not defined",
     "output_type": "error",
     "traceback": [
      "\u001b[1;31m---------------------------------------------------------------------------\u001b[0m",
      "\u001b[1;31mNameError\u001b[0m                                 Traceback (most recent call last)",
      "\u001b[1;32m<ipython-input-1-b044104cabfd>\u001b[0m in \u001b[0;36m<module>\u001b[1;34m\u001b[0m\n\u001b[1;32m----> 1\u001b[1;33m \u001b[0mimg\u001b[0m \u001b[1;33m=\u001b[0m \u001b[0mcv2\u001b[0m\u001b[1;33m.\u001b[0m\u001b[0mimread\u001b[0m\u001b[1;33m(\u001b[0m\u001b[1;34m'../lufei.png'\u001b[0m\u001b[1;33m)\u001b[0m\u001b[1;33m\u001b[0m\u001b[1;33m\u001b[0m\u001b[0m\n\u001b[0m\u001b[0;32m      2\u001b[0m kernel = np.array([\n\u001b[0;32m      3\u001b[0m     \u001b[1;33m[\u001b[0m\u001b[1;36m1\u001b[0m\u001b[1;33m,\u001b[0m\u001b[1;36m2\u001b[0m\u001b[1;33m,\u001b[0m\u001b[1;36m3\u001b[0m\u001b[1;33m]\u001b[0m\u001b[1;33m,\u001b[0m\u001b[1;33m\u001b[0m\u001b[1;33m\u001b[0m\u001b[0m\n\u001b[0;32m      4\u001b[0m     \u001b[1;33m[\u001b[0m\u001b[1;36m4\u001b[0m\u001b[1;33m,\u001b[0m\u001b[1;36m5\u001b[0m\u001b[1;33m,\u001b[0m\u001b[1;36m6\u001b[0m\u001b[1;33m]\u001b[0m\u001b[1;33m,\u001b[0m\u001b[1;33m\u001b[0m\u001b[1;33m\u001b[0m\u001b[0m\n\u001b[0;32m      5\u001b[0m     \u001b[1;33m[\u001b[0m\u001b[1;36m7\u001b[0m\u001b[1;33m,\u001b[0m\u001b[1;36m8\u001b[0m\u001b[1;33m,\u001b[0m\u001b[1;36m9\u001b[0m\u001b[1;33m]\u001b[0m\u001b[1;33m\u001b[0m\u001b[1;33m\u001b[0m\u001b[0m\n",
      "\u001b[1;31mNameError\u001b[0m: name 'cv2' is not defined"
     ]
    }
   ],
   "source": [
    "img = cv2.imread('../lufei.png') \n",
    "kernel = np.array([\n",
    "    [1,2,3],\n",
    "    [4,5,6],\n",
    "    [7,8,9]\n",
    "    ])\n",
    "padding_way='ZERO'\n",
    "img_blur = medianBlur(img,kernel,padding_way)\n",
    "\n",
    "cv2.imshow('median',img_blur)\n",
    "key = cv2.waitKey()\n",
    "if key == 27:\n",
    "    cv2.destroyAllWindows()"
   ]
  },
  {
   "cell_type": "code",
   "execution_count": null,
   "metadata": {},
   "outputs": [],
   "source": []
  },
  {
   "cell_type": "code",
   "execution_count": null,
   "metadata": {},
   "outputs": [],
   "source": []
  }
 ],
 "metadata": {
  "kernelspec": {
   "display_name": "Python 3",
   "language": "python",
   "name": "python3"
  },
  "language_info": {
   "codemirror_mode": {
    "name": "ipython",
    "version": 3
   },
   "file_extension": ".py",
   "mimetype": "text/x-python",
   "name": "python",
   "nbconvert_exporter": "python",
   "pygments_lexer": "ipython3",
   "version": "3.6.8"
  }
 },
 "nbformat": 4,
 "nbformat_minor": 2
}
